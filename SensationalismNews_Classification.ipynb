{
 "cells": [
  {
   "cell_type": "code",
   "execution_count": 14,
   "metadata": {
    "colab": {
     "base_uri": "https://localhost:8080/",
     "height": 102
    },
    "colab_type": "code",
    "executionInfo": {
     "elapsed": 925,
     "status": "ok",
     "timestamp": 1556869271723,
     "user": {
      "displayName": "Jasneet Singh",
      "photoUrl": "",
      "userId": "18253619292857065976"
     },
     "user_tz": 240
    },
    "id": "hbSDzhBv35eC",
    "outputId": "0de5835a-701d-4f3a-ed7a-de1cc09a44f5"
   },
   "outputs": [
    {
     "name": "stdout",
     "output_type": "stream",
     "text": [
      "[nltk_data] Downloading package stopwords to /root/nltk_data...\n",
      "[nltk_data]   Unzipping corpora/stopwords.zip.\n",
      "[nltk_data] Downloading package wordnet to /root/nltk_data...\n",
      "[nltk_data]   Unzipping corpora/wordnet.zip.\n"
     ]
    },
    {
     "data": {
      "text/plain": [
       "True"
      ]
     },
     "execution_count": 14,
     "metadata": {
      "tags": []
     },
     "output_type": "execute_result"
    }
   ],
   "source": [
    "from collections import Counter\n",
    "import pickle\n",
    "import pandas as pd\n",
    "import numpy as np\n",
    "import random\n",
    "import nltk\n",
    "from nltk.tokenize import RegexpTokenizer\n",
    "from nltk.stem import WordNetLemmatizer,PorterStemmer\n",
    "from nltk.corpus import stopwords\n",
    "import re\n",
    "from keras.models import Sequential\n",
    "from keras.layers import LSTM, Dropout, Dense, Embedding, Flatten, Bidirectional\n",
    "from keras.utils import to_categorical\n",
    "from sklearn import preprocessing\n",
    "from sklearn.model_selection import train_test_split\n",
    "import pandas as pd\n",
    "from keras import Input, Model\n",
    "import tensorflow as tf\n",
    "from sklearn.utils import shuffle\n",
    "from sklearn.preprocessing import OneHotEncoder\n",
    "nltk.download('stopwords')\n",
    "nltk.download('wordnet')"
   ]
  },
  {
   "cell_type": "code",
   "execution_count": 15,
   "metadata": {
    "colab": {
     "base_uri": "https://localhost:8080/",
     "height": 34
    },
    "colab_type": "code",
    "executionInfo": {
     "elapsed": 402,
     "status": "ok",
     "timestamp": 1556869273893,
     "user": {
      "displayName": "Jasneet Singh",
      "photoUrl": "",
      "userId": "18253619292857065976"
     },
     "user_tz": 240
    },
    "id": "MXbFwBno4NLP",
    "outputId": "953e64a5-9d42-480a-8595-66dbd14e9c36"
   },
   "outputs": [
    {
     "name": "stdout",
     "output_type": "stream",
     "text": [
      "Drive already mounted at /gdrive; to attempt to forcibly remount, call drive.mount(\"/gdrive\", force_remount=True).\n"
     ]
    }
   ],
   "source": [
    "from google.colab import drive\n",
    "drive.mount('/gdrive')"
   ]
  },
  {
   "cell_type": "code",
   "execution_count": null,
   "metadata": {
    "colab": {},
    "colab_type": "code",
    "id": "sWD3H2F4-Yuz"
   },
   "outputs": [],
   "source": [
    "df = pd.read_csv('data/training_data.csv',skip_blank_lines=True,header=None,names=['title','text','source','label'])"
   ]
  },
  {
   "cell_type": "code",
   "execution_count": null,
   "metadata": {
    "colab": {
     "base_uri": "https://localhost:8080/",
     "height": 204
    },
    "colab_type": "code",
    "executionInfo": {
     "elapsed": 522,
     "status": "ok",
     "timestamp": 1556829808477,
     "user": {
      "displayName": "Jasneet Singh",
      "photoUrl": "",
      "userId": "18253619292857065976"
     },
     "user_tz": 240
    },
    "id": "RMGtWfvx_3mm",
    "outputId": "64ee6f32-96af-4a52-ae9b-209c61a9061b"
   },
   "outputs": [
    {
     "data": {
      "text/html": [
       "<div>\n",
       "<style scoped>\n",
       "    .dataframe tbody tr th:only-of-type {\n",
       "        vertical-align: middle;\n",
       "    }\n",
       "\n",
       "    .dataframe tbody tr th {\n",
       "        vertical-align: top;\n",
       "    }\n",
       "\n",
       "    .dataframe thead th {\n",
       "        text-align: right;\n",
       "    }\n",
       "</style>\n",
       "<table border=\"1\" class=\"dataframe\">\n",
       "  <thead>\n",
       "    <tr style=\"text-align: right;\">\n",
       "      <th></th>\n",
       "      <th>title</th>\n",
       "      <th>text</th>\n",
       "      <th>source</th>\n",
       "      <th>label</th>\n",
       "    </tr>\n",
       "  </thead>\n",
       "  <tbody>\n",
       "    <tr>\n",
       "      <th>0</th>\n",
       "      <td>Timor-Leste: Failing State or Missed Opportunity?</td>\n",
       "      <td>Worries about Timor-Leste are understandable, ...</td>\n",
       "      <td>The Diplomat</td>\n",
       "      <td>0</td>\n",
       "    </tr>\n",
       "    <tr>\n",
       "      <th>1</th>\n",
       "      <td>Trump and Putin meet at G20</td>\n",
       "      <td>: Live updates\\nUpdated 11:01 AM ET, Fri July ...</td>\n",
       "      <td>CNN – Politics</td>\n",
       "      <td>0</td>\n",
       "    </tr>\n",
       "    <tr>\n",
       "      <th>2</th>\n",
       "      <td>Despite Voting to Keep Obamacare, John McCain ...</td>\n",
       "      <td>Senator John McCain’s reputation among grassro...</td>\n",
       "      <td>Political Insider</td>\n",
       "      <td>1</td>\n",
       "    </tr>\n",
       "    <tr>\n",
       "      <th>3</th>\n",
       "      <td>Science, Sensationalized: How the Press Underm...</td>\n",
       "      <td>“Killer T cells (green and red) surround a can...</td>\n",
       "      <td>Harvard Political Review</td>\n",
       "      <td>0</td>\n",
       "    </tr>\n",
       "    <tr>\n",
       "      <th>4</th>\n",
       "      <td>Melania joined Trump to watch the tournament. ...</td>\n",
       "      <td>admin News, Politics, U.SLeave a comment\\nWhil...</td>\n",
       "      <td>Nevo News</td>\n",
       "      <td>1</td>\n",
       "    </tr>\n",
       "  </tbody>\n",
       "</table>\n",
       "</div>"
      ],
      "text/plain": [
       "                                               title  \\\n",
       "0  Timor-Leste: Failing State or Missed Opportunity?   \n",
       "1                        Trump and Putin meet at G20   \n",
       "2  Despite Voting to Keep Obamacare, John McCain ...   \n",
       "3  Science, Sensationalized: How the Press Underm...   \n",
       "4  Melania joined Trump to watch the tournament. ...   \n",
       "\n",
       "                                                text  \\\n",
       "0  Worries about Timor-Leste are understandable, ...   \n",
       "1  : Live updates\\nUpdated 11:01 AM ET, Fri July ...   \n",
       "2  Senator John McCain’s reputation among grassro...   \n",
       "3  “Killer T cells (green and red) surround a can...   \n",
       "4  admin News, Politics, U.SLeave a comment\\nWhil...   \n",
       "\n",
       "                     source  label  \n",
       "0              The Diplomat      0  \n",
       "1            CNN – Politics      0  \n",
       "2         Political Insider      1  \n",
       "3  Harvard Political Review      0  \n",
       "4                 Nevo News      1  "
      ]
     },
     "execution_count": 4,
     "metadata": {
      "tags": []
     },
     "output_type": "execute_result"
    }
   ],
   "source": [
    "df.head()\n"
   ]
  },
  {
   "cell_type": "code",
   "execution_count": 18,
   "metadata": {
    "colab": {
     "base_uri": "https://localhost:8080/",
     "height": 357
    },
    "colab_type": "code",
    "executionInfo": {
     "elapsed": 105496,
     "status": "ok",
     "timestamp": 1556869425425,
     "user": {
      "displayName": "Jasneet Singh",
      "photoUrl": "",
      "userId": "18253619292857065976"
     },
     "user_tz": 240
    },
    "id": "jUBIkcv8DAMA",
    "outputId": "25356a5e-b473-4ce6-a928-b931ff156a56"
   },
   "outputs": [
    {
     "name": "stdout",
     "output_type": "stream",
     "text": [
      "                                                   title  \\\n",
      "3766   Women’s March Organizer Linda Sarsour Lets Sli...   \n",
      "5074   Hero biker saves tiny runaway dog from crazy M...   \n",
      "13924  Right After Republicans Saved ObamaCare AGAIN,...   \n",
      "7146   Nifty hits one-month low, Sensex falls over 10...   \n",
      "13250  ‘His apartment is full of boner pills’: Colber...   \n",
      "\n",
      "                                                    text             source  \\\n",
      "3766   July 6, 2017Natalie D.1 Views 0 CommentsJihad,...        USA Supreme   \n",
      "5074   Let friends in your social network know what y...  USA Today – World   \n",
      "13924  Please, tell me. What kind of twisted reality ...    Liberty Writers   \n",
      "7146   The broader NSE index was down 0.46 percent at...  Financial Express   \n",
      "13250  12 Jul 2017 at 23:02 ET\\nDon't miss stories. F...           RawStory   \n",
      "\n",
      "       label  \n",
      "3766       1  \n",
      "5074       0  \n",
      "13924      1  \n",
      "7146       0  \n",
      "13250      1  \n"
     ]
    }
   ],
   "source": [
    "# Preprocessing\n",
    "def preprocess(text):\n",
    "    lemmatizer = WordNetLemmatizer()\n",
    "    stemmer = PorterStemmer()\n",
    "    text=str(text)\n",
    "    text = text.lower()\n",
    "    text=text.replace('{html}',\"\") \n",
    "    cleanr = re.compile('<.*?>')\n",
    "    cleantext = re.sub(cleanr, '', text)\n",
    "    rem_url=re.sub(r'http\\S+', '',cleantext)\n",
    "    rem_num = re.sub('[0-9]+', '', rem_url)\n",
    "    tokenizer = RegexpTokenizer(r'\\w+')\n",
    "    tokens = tokenizer.tokenize(rem_num)  \n",
    "    filt_words = [w for w in tokens if len(w) > 2 if not w in stopwords.words('english')]\n",
    "    stem_words=[stemmer.stem(w) for w in filt_words]\n",
    "    lemma_words=[lemmatizer.lemmatize(w) for w in stem_words]\n",
    "    return \" \".join(filt_words)\n",
    " \n",
    "def load_glove(file):\n",
    "    f = open(file, 'r')\n",
    "    embed = []\n",
    "    word = []\n",
    "    pair = dict()\n",
    "    for line in f:\n",
    "        split = line.split()\n",
    "        word.append(split[0])\n",
    "        embedding = np.array([float(val) for val in split[1:]])\n",
    "        embed.append(embedding)\n",
    "        pair[split[0]] = embedding\n",
    "    embed = np.array(embed)\n",
    "    return pair,word\n",
    "\n",
    "df = pd.read_csv('data/training_data.csv',skip_blank_lines=True,header=None,names=['title','text','source','label'])\n",
    "df = shuffle(df)\n",
    "print(df.head())\n",
    "#normalization true casing\n",
    "for i in df.title.str.split('\\n'):\n",
    "    i[0] = preprocess(i[0])\n",
    "for i in df.text.str.split('\\n'):\n",
    "    i[0] = preprocess(i[0])\n",
    "\n",
    "df.title = df.title.str.replace(r'\\s\\s+',' ') #replace multple white space with a single one\n",
    "df.text = df.text.str.replace(r'\\s\\s+',' ')\n",
    "df.title = df.title.str.strip()\n",
    "df.text = df.text.str.strip()\n",
    "\n",
    "\n",
    "glove = 'CSI6900/data/glove.6B.100d.txt'\n",
    "glove_vec,words = load_glove(glove)\n",
    "\n",
    "#print(glove_vec['newyork'])\n",
    "#only considering words that appear for more than 5 times\n",
    "all_words = ' '.join(df.text.values)\n",
    "word = all_words.split()\n",
    "common_words = Counter(word).most_common()\n",
    "common_word = [p for p,q in common_words]\n",
    "freq_words = [w[0] for w in common_words if w[1]>=5]\n",
    "#we take all words in having glove vectors and freq words not iin glove\n",
    "common_words_in_glove = [w for w,is_true in zip(common_word,words) if is_true]\n",
    "common_words_not_in_glove = [w for w,is_true in zip(common_word,words) if not is_true]\n",
    "freq_words_not_in_glove = [w for w in common_words_not_in_glove and freq_words]\n",
    "total_words = common_words_in_glove+freq_words_not_in_glove\n",
    "word2num = dict(zip(total_words,range(len(total_words))))\n",
    "word2num['Other'] = len(word2num)\n",
    "word2num['Pad'] = len(word2num)\n",
    "num2word = dict(zip(word2num.values(),word2num.keys()))\n",
    "text = [[word2num[word] if word in word2num else word2num['Other']\n",
    "             for word in content.split()] for content in df.text.values]"
   ]
  },
  {
   "cell_type": "code",
   "execution_count": null,
   "metadata": {
    "colab": {},
    "colab_type": "code",
    "id": "cK-374iZYhiB"
   },
   "outputs": [],
   "source": [
    "#padding since each x is not of same length\n",
    "for i,t in enumerate(text):\n",
    "    if (len(t) < 500):\n",
    "        text[i] = [word2num['Pad']] * (500 - len(t)) + t #append to the list the pad word's list 500-len(t) times\n",
    "        #print(len(text[i]))\n",
    "    elif (len(t) > 500):\n",
    "        text[i] = t[:500]\n",
    "        #print(len(text[i]))\n",
    "    else:\n",
    "        continue"
   ]
  },
  {
   "cell_type": "code",
   "execution_count": null,
   "metadata": {
    "colab": {
     "base_uri": "https://localhost:8080/",
     "height": 629
    },
    "colab_type": "code",
    "executionInfo": {
     "elapsed": 551816,
     "status": "ok",
     "timestamp": 1556762961684,
     "user": {
      "displayName": "Jasneet Singh",
      "photoUrl": "",
      "userId": "18253619292857065976"
     },
     "user_tz": 240
    },
    "id": "gSvLT7PgaVFq",
    "outputId": "dc3d7258-053b-434f-9cdc-7efb792c67d6"
   },
   "outputs": [
    {
     "name": "stdout",
     "output_type": "stream",
     "text": [
      "_________________________________________________________________\n",
      "Layer (type)                 Output Shape              Param #   \n",
      "=================================================================\n",
      "embedding_4 (Embedding)      (None, None, 100)         30965500  \n",
      "_________________________________________________________________\n",
      "bidirectional_4 (Bidirection (None, 128)               84480     \n",
      "_________________________________________________________________\n",
      "dense_4 (Dense)              (None, 1)                 129       \n",
      "=================================================================\n",
      "Total params: 31,050,109\n",
      "Trainable params: 31,050,109\n",
      "Non-trainable params: 0\n",
      "_________________________________________________________________\n",
      "Train on 13600 samples, validate on 2400 samples\n",
      "Epoch 1/7\n",
      "13600/13600 [==============================] - 359s 26ms/step - loss: 0.3423 - acc: 0.8565 - val_loss: 0.2563 - val_acc: 0.9021\n",
      "Epoch 2/7\n",
      "13600/13600 [==============================] - 356s 26ms/step - loss: 0.0844 - acc: 0.9743 - val_loss: 0.1625 - val_acc: 0.9396\n",
      "Epoch 3/7\n",
      "13600/13600 [==============================] - 355s 26ms/step - loss: 0.0233 - acc: 0.9952 - val_loss: 0.1586 - val_acc: 0.9421\n",
      "Epoch 4/7\n",
      "13600/13600 [==============================] - 356s 26ms/step - loss: 0.0086 - acc: 0.9983 - val_loss: 0.1644 - val_acc: 0.9442\n",
      "Epoch 5/7\n",
      "13600/13600 [==============================] - 357s 26ms/step - loss: 0.0041 - acc: 0.9996 - val_loss: 0.1925 - val_acc: 0.9417\n",
      "Epoch 6/7\n",
      "13600/13600 [==============================] - 356s 26ms/step - loss: 0.0026 - acc: 0.9999 - val_loss: 0.1966 - val_acc: 0.9412\n",
      "Epoch 7/7\n",
      "13600/13600 [==============================] - 358s 26ms/step - loss: 0.0019 - acc: 0.9999 - val_loss: 0.1991 - val_acc: 0.9412\n",
      "2400/2400 [==============================] - 13s 5ms/step\n",
      "[[1.0356307e-04]\n",
      " [3.4600496e-05]\n",
      " [4.5984983e-05]\n",
      " ...\n",
      " [9.9272323e-01]\n",
      " [9.9932086e-01]\n",
      " [8.9019537e-05]]   [0 0 0 ... 1 1 0]\n"
     ]
    }
   ],
   "source": [
    "x = np.array(text,dtype=object)\n",
    "y = (df.label.values==1).astype('int')\n",
    "batch_size = 100\n",
    "x_train, x_test, y_train, y_test = train_test_split(x, y, test_size=0.15,random_state=42)\n",
    "model = Sequential()\n",
    "model.add(Embedding(len(word2num),batch_size))\n",
    "model.add(Bidirectional(LSTM(64),merge_mode='concat'))\n",
    "model.add(Dense(1,activation='sigmoid'))\n",
    "model.compile(loss=\"binary_crossentropy\",optimizer=\"AdaGrad\",metrics=['accuracy'])\n",
    "model.summary()\n",
    "model.fit(x_train,y_train,batch_size= batch_size, epochs = 7,validation_data=(x_test,y_test))\n",
    "model.evaluate(x_test,y_test)\n",
    "print(model.predict(x_test),' ',y_test)\n",
    "filename = 'data/finalized_model_100D.sav'\n",
    "pickle.dump(model, open(filename, 'wb'))"
   ]
  },
  {
   "cell_type": "code",
   "execution_count": null,
   "metadata": {
    "colab": {
     "base_uri": "https://localhost:8080/",
     "height": 51
    },
    "colab_type": "code",
    "executionInfo": {
     "elapsed": 12151,
     "status": "ok",
     "timestamp": 1556763127213,
     "user": {
      "displayName": "Jasneet Singh",
      "photoUrl": "",
      "userId": "18253619292857065976"
     },
     "user_tz": 240
    },
    "id": "dFfrQXDb9Yv0",
    "outputId": "8e175fff-7ef2-415e-94af-a0c59d34f5c9"
   },
   "outputs": [
    {
     "name": "stdout",
     "output_type": "stream",
     "text": [
      "0\n",
      "0\n"
     ]
    }
   ],
   "source": [
    "# Creating y_pred from the sigmoid output of the predictions in order to compare\n",
    "count = 0\n",
    "y_pred = model.predict(x_test)\n",
    "y_pred_simple = []\n",
    "for a in y_pred:\n",
    "  if a[0] < .5:\n",
    "    y_pred_simple.append(0)\n",
    "  else:\n",
    "    y_pred_simple.append(1)\n",
    "print(count)\n",
    "print(y_test[1])"
   ]
  },
  {
   "cell_type": "code",
   "execution_count": null,
   "metadata": {
    "colab": {
     "base_uri": "https://localhost:8080/",
     "height": 221
    },
    "colab_type": "code",
    "executionInfo": {
     "elapsed": 315,
     "status": "ok",
     "timestamp": 1556765136956,
     "user": {
      "displayName": "Jasneet Singh",
      "photoUrl": "",
      "userId": "18253619292857065976"
     },
     "user_tz": 240
    },
    "id": "BUfEzXBx9f8t",
    "outputId": "5447be1a-ce12-42a0-d7ea-670f7d4bd4d7"
   },
   "outputs": [
    {
     "name": "stdout",
     "output_type": "stream",
     "text": [
      "0.9505962521294719\n",
      "0.9307756463719766\n",
      "              precision    recall  f1-score   support\n",
      "\n",
      "           0       0.95      0.93      0.94      1226\n",
      "           1       0.93      0.95      0.94      1174\n",
      "\n",
      "   micro avg       0.94      0.94      0.94      2400\n",
      "   macro avg       0.94      0.94      0.94      2400\n",
      "weighted avg       0.94      0.94      0.94      2400\n",
      "\n",
      "0.94125\n"
     ]
    }
   ],
   "source": [
    "# Various performance metrics\n",
    "from sklearn.metrics import precision_score, recall_score, classification_report, accuracy_score, confusion_matrix, roc_auc_score, auc, roc_curve\n",
    "print(recall_score(y_pred_simple, y_test))\n",
    "print(precision_score(y_pred_simple, y_test))\n",
    "print(classification_report(y_pred_simple, y_test))\n",
    "print(accuracy_score(y_pred_simple, y_test))\n",
    "cmtx = confusion_matrix(y_test,y_pred_simple)"
   ]
  },
  {
   "cell_type": "code",
   "execution_count": null,
   "metadata": {
    "colab": {
     "base_uri": "https://localhost:8080/",
     "height": 362
    },
    "colab_type": "code",
    "executionInfo": {
     "elapsed": 566,
     "status": "ok",
     "timestamp": 1556765139587,
     "user": {
      "displayName": "Jasneet Singh",
      "photoUrl": "",
      "userId": "18253619292857065976"
     },
     "user_tz": 240
    },
    "id": "1g4WbhhsVjrL",
    "outputId": "a49b1e5f-6855-4df2-a4db-751f12f7f7b2"
   },
   "outputs": [
    {
     "name": "stdout",
     "output_type": "stream",
     "text": [
      "Confusion matrix, without normalization\n",
      "[[1143   58]\n",
      " [  83 1116]]\n"
     ]
    },
    {
     "data": {
      "image/png": "[encoded data removed]",
      "text/plain": [
       "<Figure size 432x288 with 2 Axes>"
      ]
     },
     "metadata": {
      "tags": []
     },
     "output_type": "display_data"
    }
   ],
   "source": [
    "# Plot the confusion matrix\n",
    "from matplotlib import pyplot as plt\n",
    "import itertools\n",
    "def plot_confusion_matrix(cm, classes,\n",
    "                          normalize=False,\n",
    "                          title='Confusion matrix',\n",
    "                          cmap=plt.cm.Blues):\n",
    "    \"\"\"\n",
    "    This function prints and plots the confusion matrix.\n",
    "    Normalization can be applied by setting `normalize=True`.\n",
    "    \"\"\"\n",
    "    if normalize:\n",
    "        cm = cm.astype('float') / cm.sum(axis=1)[:, np.newaxis]\n",
    "        print(\"Normalized confusion matrix\")\n",
    "    else:\n",
    "        print('Confusion matrix, without normalization')\n",
    "\n",
    "    print(cm)\n",
    "    plt.imshow(cm, interpolation='nearest', cmap=cmap)\n",
    "    plt.title(title)\n",
    "    plt.colorbar()\n",
    "    tick_marks = np.arange(len(classes))\n",
    "    plt.xticks(tick_marks, classes, rotation=45)\n",
    "    plt.yticks(tick_marks, classes)\n",
    "    fmt = '.2f' if normalize else 'd'\n",
    "    thresh = cm.max() / 2.\n",
    "    for i, j in itertools.product(range(cm.shape[0]),   range(cm.shape[1])):\n",
    "        plt.text(j, i, format(cm[i, j], fmt), horizontalalignment=\"center\", color=\"white\" if cm[i, j] > thresh else \"black\")\n",
    "    plt.tight_layout()\n",
    "    plt.ylabel('True label')\n",
    "    plt.xlabel('Predicted label')\n",
    "\n",
    "    \n",
    "plot_confusion_matrix(cmtx, classes=['Objective', 'Sensationalist'])"
   ]
  },
  {
   "cell_type": "code",
   "execution_count": null,
   "metadata": {
    "colab": {
     "base_uri": "https://localhost:8080/",
     "height": 329
    },
    "colab_type": "code",
    "executionInfo": {
     "elapsed": 481,
     "status": "ok",
     "timestamp": 1556765141763,
     "user": {
      "displayName": "Jasneet Singh",
      "photoUrl": "",
      "userId": "18253619292857065976"
     },
     "user_tz": 240
    },
    "id": "jgkL1m3UbReo",
    "outputId": "3cfb3afc-e495-4c03-a3ff-93161c9b41e6"
   },
   "outputs": [
    {
     "name": "stdout",
     "output_type": "stream",
     "text": [
      "AUC score\n",
      "0.9843902669376854\n"
     ]
    },
    {
     "data": {
      "image/png": "[encoded data removed]",
      "text/plain": [
       "<Figure size 432x288 with 1 Axes>"
      ]
     },
     "metadata": {
      "tags": []
     },
     "output_type": "display_data"
    }
   ],
   "source": [
    "# Plot a ROC cureve\n",
    "print(\"AUC score\")\n",
    "print(roc_auc_score(y_test, y_pred))\n",
    "fpr, tpr, threshold = roc_curve(y_test, y_pred)\n",
    "roc_auc = auc(fpr, tpr)\n",
    "plt.title('Receiver Operating Characteristic')\n",
    "plt.plot(fpr, tpr, 'b', label = 'AUC = %0.2f' % roc_auc)\n",
    "plt.legend(loc = 'lower right')\n",
    "plt.plot([0, 1], [0, 1],'r--')\n",
    "plt.xlim([0, 1])\n",
    "plt.ylim([0, 1])\n",
    "plt.ylabel('True Positive Rate')\n",
    "plt.xlabel('False Positive Rate')\n",
    "plt.show()"
   ]
  },
  {
   "cell_type": "code",
   "execution_count": 20,
   "metadata": {
    "colab": {
     "base_uri": "https://localhost:8080/",
     "height": 238
    },
    "colab_type": "code",
    "executionInfo": {
     "elapsed": 1486,
     "status": "ok",
     "timestamp": 1556869601473,
     "user": {
      "displayName": "Jasneet Singh",
      "photoUrl": "",
      "userId": "18253619292857065976"
     },
     "user_tz": 240
    },
    "id": "RoVejUeaSJ51",
    "outputId": "cbee540f-2fba-424d-852c-1091ac2eedad"
   },
   "outputs": [
    {
     "name": "stdout",
     "output_type": "stream",
     "text": [
      "_________________________________________________________________\n",
      "Layer (type)                 Output Shape              Param #   \n",
      "=================================================================\n",
      "embedding_4 (Embedding)      (None, None, 100)         30965500  \n",
      "_________________________________________________________________\n",
      "bidirectional_4 (Bidirection (None, 128)               84480     \n",
      "_________________________________________________________________\n",
      "dense_4 (Dense)              (None, 1)                 129       \n",
      "=================================================================\n",
      "Total params: 31,050,109\n",
      "Trainable params: 31,050,109\n",
      "Non-trainable params: 0\n",
      "_________________________________________________________________\n"
     ]
    }
   ],
   "source": [
    "# Keras output graph of the Model\n",
    "from keras.utils import plot_model\n",
    "batch_size = 100\n",
    "model = Sequential()\n",
    "model.add(Embedding(len(word2num),batch_size))\n",
    "model.add(Bidirectional(LSTM(64),merge_mode='concat'))\n",
    "model.add(Dense(1,activation='sigmoid'))\n",
    "model.compile(loss=\"binary_crossentropy\",optimizer=\"AdaGrad\",metrics=['accuracy'])\n",
    "model.summary()\n",
    "plot_model(model, to_file='data/model.png')"
   ]
  }
 ],
 "metadata": {
  "colab": {
   "collapsed_sections": [],
   "name": "SensationalismNews_Classification",
   "provenance": [],
   "version": "0.3.2"
  },
  "kernelspec": {
   "display_name": "Python 3",
   "language": "python",
   "name": "python3"
  },
  "language_info": {
   "codemirror_mode": {
    "name": "ipython",
    "version": 3
   },
   "file_extension": ".py",
   "mimetype": "text/x-python",
   "name": "python",
   "nbconvert_exporter": "python",
   "pygments_lexer": "ipython3",
   "version": "3.7.1"
  }
 },
 "nbformat": 4,
 "nbformat_minor": 2
}
